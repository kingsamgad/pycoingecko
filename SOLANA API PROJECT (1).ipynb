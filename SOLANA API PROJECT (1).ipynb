{
 "cells": [
  {
   "cell_type": "code",
   "execution_count": 1,
   "id": "9a1bed6f",
   "metadata": {},
   "outputs": [
    {
     "name": "stdout",
     "output_type": "stream",
     "text": [
      "Requirement already satisfied: pycoingecko in c:\\users\\user\\anaconda3\\lib\\site-packages (3.1.0)\n",
      "Requirement already satisfied: requests in c:\\users\\user\\anaconda3\\lib\\site-packages (from pycoingecko) (2.27.1)\n",
      "Requirement already satisfied: urllib3<1.27,>=1.21.1 in c:\\users\\user\\anaconda3\\lib\\site-packages (from requests->pycoingecko) (1.26.9)\n",
      "Requirement already satisfied: idna<4,>=2.5 in c:\\users\\user\\anaconda3\\lib\\site-packages (from requests->pycoingecko) (3.3)\n",
      "Requirement already satisfied: certifi>=2017.4.17 in c:\\users\\user\\anaconda3\\lib\\site-packages (from requests->pycoingecko) (2021.10.8)\n",
      "Requirement already satisfied: charset-normalizer~=2.0.0 in c:\\users\\user\\anaconda3\\lib\\site-packages (from requests->pycoingecko) (2.0.4)\n"
     ]
    }
   ],
   "source": [
    "!pip install pycoingecko"
   ]
  },
  {
   "cell_type": "code",
   "execution_count": 2,
   "id": "b08f6d47",
   "metadata": {},
   "outputs": [],
   "source": [
    "from pycoingecko import CoinGeckoAPI\n",
    "cg = CoinGeckoAPI()"
   ]
  },
  {
   "cell_type": "code",
   "execution_count": 3,
   "id": "ea4b8504",
   "metadata": {},
   "outputs": [],
   "source": [
    "import pandas as pd"
   ]
  },
  {
   "cell_type": "code",
   "execution_count": 4,
   "id": "487ac490",
   "metadata": {},
   "outputs": [],
   "source": [
    "sol_data = cg.get_coin_market_chart_by_id(id = 'solana', vs_currency = 'usd', days = 365)"
   ]
  },
  {
   "cell_type": "code",
   "execution_count": 5,
   "id": "23197ba5",
   "metadata": {},
   "outputs": [
    {
     "data": {
      "text/plain": [
       "dict"
      ]
     },
     "execution_count": 5,
     "metadata": {},
     "output_type": "execute_result"
    }
   ],
   "source": [
    "type(sol_data)"
   ]
  },
  {
   "cell_type": "code",
   "execution_count": 6,
   "id": "fee7105f",
   "metadata": {},
   "outputs": [
    {
     "data": {
      "text/plain": [
       "dict_keys(['prices', 'market_caps', 'total_volumes'])"
      ]
     },
     "execution_count": 6,
     "metadata": {},
     "output_type": "execute_result"
    }
   ],
   "source": [
    "sol_data.keys()"
   ]
  },
  {
   "cell_type": "code",
   "execution_count": 7,
   "id": "15cb9ab2",
   "metadata": {},
   "outputs": [],
   "source": [
    "sol = pd.DataFrame({k:dict(v) for k,v in sol_data.items()})"
   ]
  },
  {
   "cell_type": "code",
   "execution_count": 8,
   "id": "690de947",
   "metadata": {},
   "outputs": [
    {
     "data": {
      "text/html": [
       "<div>\n",
       "<style scoped>\n",
       "    .dataframe tbody tr th:only-of-type {\n",
       "        vertical-align: middle;\n",
       "    }\n",
       "\n",
       "    .dataframe tbody tr th {\n",
       "        vertical-align: top;\n",
       "    }\n",
       "\n",
       "    .dataframe thead th {\n",
       "        text-align: right;\n",
       "    }\n",
       "</style>\n",
       "<table border=\"1\" class=\"dataframe\">\n",
       "  <thead>\n",
       "    <tr style=\"text-align: right;\">\n",
       "      <th></th>\n",
       "      <th>prices</th>\n",
       "      <th>market_caps</th>\n",
       "      <th>total_volumes</th>\n",
       "    </tr>\n",
       "  </thead>\n",
       "  <tbody>\n",
       "    <tr>\n",
       "      <th>1641513600000</th>\n",
       "      <td>150.723625</td>\n",
       "      <td>4.685469e+10</td>\n",
       "      <td>1.922945e+09</td>\n",
       "    </tr>\n",
       "    <tr>\n",
       "      <th>1641600000000</th>\n",
       "      <td>136.613309</td>\n",
       "      <td>4.261075e+10</td>\n",
       "      <td>2.713161e+09</td>\n",
       "    </tr>\n",
       "    <tr>\n",
       "      <th>1641686400000</th>\n",
       "      <td>142.376915</td>\n",
       "      <td>4.468044e+10</td>\n",
       "      <td>2.495098e+09</td>\n",
       "    </tr>\n",
       "    <tr>\n",
       "      <th>1641772800000</th>\n",
       "      <td>140.970690</td>\n",
       "      <td>4.384456e+10</td>\n",
       "      <td>1.383487e+09</td>\n",
       "    </tr>\n",
       "    <tr>\n",
       "      <th>1641859200000</th>\n",
       "      <td>135.982153</td>\n",
       "      <td>4.232055e+10</td>\n",
       "      <td>1.797340e+09</td>\n",
       "    </tr>\n",
       "  </tbody>\n",
       "</table>\n",
       "</div>"
      ],
      "text/plain": [
       "                   prices   market_caps  total_volumes\n",
       "1641513600000  150.723625  4.685469e+10   1.922945e+09\n",
       "1641600000000  136.613309  4.261075e+10   2.713161e+09\n",
       "1641686400000  142.376915  4.468044e+10   2.495098e+09\n",
       "1641772800000  140.970690  4.384456e+10   1.383487e+09\n",
       "1641859200000  135.982153  4.232055e+10   1.797340e+09"
      ]
     },
     "execution_count": 8,
     "metadata": {},
     "output_type": "execute_result"
    }
   ],
   "source": [
    "sol.head()"
   ]
  },
  {
   "cell_type": "code",
   "execution_count": 9,
   "id": "44e8c083",
   "metadata": {},
   "outputs": [],
   "source": [
    "sol = sol.set_index(pd.to_datetime(sol.index,unit='ms'))"
   ]
  },
  {
   "cell_type": "code",
   "execution_count": 10,
   "id": "c14cd824",
   "metadata": {},
   "outputs": [
    {
     "data": {
      "text/html": [
       "<div>\n",
       "<style scoped>\n",
       "    .dataframe tbody tr th:only-of-type {\n",
       "        vertical-align: middle;\n",
       "    }\n",
       "\n",
       "    .dataframe tbody tr th {\n",
       "        vertical-align: top;\n",
       "    }\n",
       "\n",
       "    .dataframe thead th {\n",
       "        text-align: right;\n",
       "    }\n",
       "</style>\n",
       "<table border=\"1\" class=\"dataframe\">\n",
       "  <thead>\n",
       "    <tr style=\"text-align: right;\">\n",
       "      <th></th>\n",
       "      <th>prices</th>\n",
       "      <th>market_caps</th>\n",
       "      <th>total_volumes</th>\n",
       "    </tr>\n",
       "  </thead>\n",
       "  <tbody>\n",
       "    <tr>\n",
       "      <th>2022-01-07</th>\n",
       "      <td>150.723625</td>\n",
       "      <td>4.685469e+10</td>\n",
       "      <td>1.922945e+09</td>\n",
       "    </tr>\n",
       "    <tr>\n",
       "      <th>2022-01-08</th>\n",
       "      <td>136.613309</td>\n",
       "      <td>4.261075e+10</td>\n",
       "      <td>2.713161e+09</td>\n",
       "    </tr>\n",
       "    <tr>\n",
       "      <th>2022-01-09</th>\n",
       "      <td>142.376915</td>\n",
       "      <td>4.468044e+10</td>\n",
       "      <td>2.495098e+09</td>\n",
       "    </tr>\n",
       "    <tr>\n",
       "      <th>2022-01-10</th>\n",
       "      <td>140.970690</td>\n",
       "      <td>4.384456e+10</td>\n",
       "      <td>1.383487e+09</td>\n",
       "    </tr>\n",
       "    <tr>\n",
       "      <th>2022-01-11</th>\n",
       "      <td>135.982153</td>\n",
       "      <td>4.232055e+10</td>\n",
       "      <td>1.797340e+09</td>\n",
       "    </tr>\n",
       "  </tbody>\n",
       "</table>\n",
       "</div>"
      ],
      "text/plain": [
       "                prices   market_caps  total_volumes\n",
       "2022-01-07  150.723625  4.685469e+10   1.922945e+09\n",
       "2022-01-08  136.613309  4.261075e+10   2.713161e+09\n",
       "2022-01-09  142.376915  4.468044e+10   2.495098e+09\n",
       "2022-01-10  140.970690  4.384456e+10   1.383487e+09\n",
       "2022-01-11  135.982153  4.232055e+10   1.797340e+09"
      ]
     },
     "execution_count": 10,
     "metadata": {},
     "output_type": "execute_result"
    }
   ],
   "source": [
    "sol.head()"
   ]
  },
  {
   "cell_type": "code",
   "execution_count": 11,
   "id": "794fe439",
   "metadata": {},
   "outputs": [],
   "source": [
    "sol.index.name = \"Dates\""
   ]
  },
  {
   "cell_type": "code",
   "execution_count": 12,
   "id": "243ad34d",
   "metadata": {},
   "outputs": [
    {
     "data": {
      "text/html": [
       "<div>\n",
       "<style scoped>\n",
       "    .dataframe tbody tr th:only-of-type {\n",
       "        vertical-align: middle;\n",
       "    }\n",
       "\n",
       "    .dataframe tbody tr th {\n",
       "        vertical-align: top;\n",
       "    }\n",
       "\n",
       "    .dataframe thead th {\n",
       "        text-align: right;\n",
       "    }\n",
       "</style>\n",
       "<table border=\"1\" class=\"dataframe\">\n",
       "  <thead>\n",
       "    <tr style=\"text-align: right;\">\n",
       "      <th></th>\n",
       "      <th>prices</th>\n",
       "      <th>market_caps</th>\n",
       "      <th>total_volumes</th>\n",
       "    </tr>\n",
       "    <tr>\n",
       "      <th>Dates</th>\n",
       "      <th></th>\n",
       "      <th></th>\n",
       "      <th></th>\n",
       "    </tr>\n",
       "  </thead>\n",
       "  <tbody>\n",
       "    <tr>\n",
       "      <th>2022-01-07</th>\n",
       "      <td>150.723625</td>\n",
       "      <td>4.685469e+10</td>\n",
       "      <td>1.922945e+09</td>\n",
       "    </tr>\n",
       "    <tr>\n",
       "      <th>2022-01-08</th>\n",
       "      <td>136.613309</td>\n",
       "      <td>4.261075e+10</td>\n",
       "      <td>2.713161e+09</td>\n",
       "    </tr>\n",
       "    <tr>\n",
       "      <th>2022-01-09</th>\n",
       "      <td>142.376915</td>\n",
       "      <td>4.468044e+10</td>\n",
       "      <td>2.495098e+09</td>\n",
       "    </tr>\n",
       "    <tr>\n",
       "      <th>2022-01-10</th>\n",
       "      <td>140.970690</td>\n",
       "      <td>4.384456e+10</td>\n",
       "      <td>1.383487e+09</td>\n",
       "    </tr>\n",
       "    <tr>\n",
       "      <th>2022-01-11</th>\n",
       "      <td>135.982153</td>\n",
       "      <td>4.232055e+10</td>\n",
       "      <td>1.797340e+09</td>\n",
       "    </tr>\n",
       "  </tbody>\n",
       "</table>\n",
       "</div>"
      ],
      "text/plain": [
       "                prices   market_caps  total_volumes\n",
       "Dates                                              \n",
       "2022-01-07  150.723625  4.685469e+10   1.922945e+09\n",
       "2022-01-08  136.613309  4.261075e+10   2.713161e+09\n",
       "2022-01-09  142.376915  4.468044e+10   2.495098e+09\n",
       "2022-01-10  140.970690  4.384456e+10   1.383487e+09\n",
       "2022-01-11  135.982153  4.232055e+10   1.797340e+09"
      ]
     },
     "execution_count": 12,
     "metadata": {},
     "output_type": "execute_result"
    }
   ],
   "source": [
    "sol.head()"
   ]
  },
  {
   "cell_type": "code",
   "execution_count": 13,
   "id": "a2db0332",
   "metadata": {},
   "outputs": [],
   "source": [
    "sol.reset_index(inplace = True)"
   ]
  },
  {
   "cell_type": "code",
   "execution_count": 14,
   "id": "41671113",
   "metadata": {},
   "outputs": [
    {
     "data": {
      "text/html": [
       "<div>\n",
       "<style scoped>\n",
       "    .dataframe tbody tr th:only-of-type {\n",
       "        vertical-align: middle;\n",
       "    }\n",
       "\n",
       "    .dataframe tbody tr th {\n",
       "        vertical-align: top;\n",
       "    }\n",
       "\n",
       "    .dataframe thead th {\n",
       "        text-align: right;\n",
       "    }\n",
       "</style>\n",
       "<table border=\"1\" class=\"dataframe\">\n",
       "  <thead>\n",
       "    <tr style=\"text-align: right;\">\n",
       "      <th></th>\n",
       "      <th>Dates</th>\n",
       "      <th>prices</th>\n",
       "      <th>market_caps</th>\n",
       "      <th>total_volumes</th>\n",
       "    </tr>\n",
       "  </thead>\n",
       "  <tbody>\n",
       "    <tr>\n",
       "      <th>0</th>\n",
       "      <td>2022-01-07</td>\n",
       "      <td>150.723625</td>\n",
       "      <td>4.685469e+10</td>\n",
       "      <td>1.922945e+09</td>\n",
       "    </tr>\n",
       "    <tr>\n",
       "      <th>1</th>\n",
       "      <td>2022-01-08</td>\n",
       "      <td>136.613309</td>\n",
       "      <td>4.261075e+10</td>\n",
       "      <td>2.713161e+09</td>\n",
       "    </tr>\n",
       "    <tr>\n",
       "      <th>2</th>\n",
       "      <td>2022-01-09</td>\n",
       "      <td>142.376915</td>\n",
       "      <td>4.468044e+10</td>\n",
       "      <td>2.495098e+09</td>\n",
       "    </tr>\n",
       "    <tr>\n",
       "      <th>3</th>\n",
       "      <td>2022-01-10</td>\n",
       "      <td>140.970690</td>\n",
       "      <td>4.384456e+10</td>\n",
       "      <td>1.383487e+09</td>\n",
       "    </tr>\n",
       "    <tr>\n",
       "      <th>4</th>\n",
       "      <td>2022-01-11</td>\n",
       "      <td>135.982153</td>\n",
       "      <td>4.232055e+10</td>\n",
       "      <td>1.797340e+09</td>\n",
       "    </tr>\n",
       "  </tbody>\n",
       "</table>\n",
       "</div>"
      ],
      "text/plain": [
       "       Dates      prices   market_caps  total_volumes\n",
       "0 2022-01-07  150.723625  4.685469e+10   1.922945e+09\n",
       "1 2022-01-08  136.613309  4.261075e+10   2.713161e+09\n",
       "2 2022-01-09  142.376915  4.468044e+10   2.495098e+09\n",
       "3 2022-01-10  140.970690  4.384456e+10   1.383487e+09\n",
       "4 2022-01-11  135.982153  4.232055e+10   1.797340e+09"
      ]
     },
     "execution_count": 14,
     "metadata": {},
     "output_type": "execute_result"
    }
   ],
   "source": [
    "sol.head()"
   ]
  },
  {
   "cell_type": "code",
   "execution_count": 15,
   "id": "30690155",
   "metadata": {},
   "outputs": [
    {
     "data": {
      "text/html": [
       "<div>\n",
       "<style scoped>\n",
       "    .dataframe tbody tr th:only-of-type {\n",
       "        vertical-align: middle;\n",
       "    }\n",
       "\n",
       "    .dataframe tbody tr th {\n",
       "        vertical-align: top;\n",
       "    }\n",
       "\n",
       "    .dataframe thead th {\n",
       "        text-align: right;\n",
       "    }\n",
       "</style>\n",
       "<table border=\"1\" class=\"dataframe\">\n",
       "  <thead>\n",
       "    <tr style=\"text-align: right;\">\n",
       "      <th></th>\n",
       "      <th>Dates</th>\n",
       "      <th>prices</th>\n",
       "      <th>market_caps</th>\n",
       "      <th>total_volumes</th>\n",
       "    </tr>\n",
       "  </thead>\n",
       "  <tbody>\n",
       "    <tr>\n",
       "      <th>6</th>\n",
       "      <td>2022-01-13</td>\n",
       "      <td>151.922254</td>\n",
       "      <td>4.753406e+10</td>\n",
       "      <td>2.048462e+09</td>\n",
       "    </tr>\n",
       "  </tbody>\n",
       "</table>\n",
       "</div>"
      ],
      "text/plain": [
       "       Dates      prices   market_caps  total_volumes\n",
       "6 2022-01-13  151.922254  4.753406e+10   2.048462e+09"
      ]
     },
     "execution_count": 15,
     "metadata": {},
     "output_type": "execute_result"
    }
   ],
   "source": [
    "sol[sol['prices'] == sol.prices.max()]"
   ]
  },
  {
   "cell_type": "code",
   "execution_count": 16,
   "id": "2977837b",
   "metadata": {},
   "outputs": [
    {
     "data": {
      "text/html": [
       "<div>\n",
       "<style scoped>\n",
       "    .dataframe tbody tr th:only-of-type {\n",
       "        vertical-align: middle;\n",
       "    }\n",
       "\n",
       "    .dataframe tbody tr th {\n",
       "        vertical-align: top;\n",
       "    }\n",
       "\n",
       "    .dataframe thead th {\n",
       "        text-align: right;\n",
       "    }\n",
       "</style>\n",
       "<table border=\"1\" class=\"dataframe\">\n",
       "  <thead>\n",
       "    <tr style=\"text-align: right;\">\n",
       "      <th></th>\n",
       "      <th>Dates</th>\n",
       "      <th>prices</th>\n",
       "      <th>market_caps</th>\n",
       "      <th>total_volumes</th>\n",
       "    </tr>\n",
       "  </thead>\n",
       "  <tbody>\n",
       "    <tr>\n",
       "      <th>357</th>\n",
       "      <td>2022-12-30</td>\n",
       "      <td>9.597795</td>\n",
       "      <td>3.537484e+09</td>\n",
       "      <td>8.383178e+08</td>\n",
       "    </tr>\n",
       "  </tbody>\n",
       "</table>\n",
       "</div>"
      ],
      "text/plain": [
       "         Dates    prices   market_caps  total_volumes\n",
       "357 2022-12-30  9.597795  3.537484e+09   8.383178e+08"
      ]
     },
     "execution_count": 16,
     "metadata": {},
     "output_type": "execute_result"
    }
   ],
   "source": [
    "sol[sol['prices'] == sol.prices.min()]"
   ]
  },
  {
   "cell_type": "code",
   "execution_count": 17,
   "id": "aacb866b",
   "metadata": {},
   "outputs": [
    {
     "data": {
      "text/plain": [
       "55.682282380277215"
      ]
     },
     "execution_count": 17,
     "metadata": {},
     "output_type": "execute_result"
    }
   ],
   "source": [
    "sol['prices'].mean()"
   ]
  },
  {
   "cell_type": "code",
   "execution_count": null,
   "id": "53e419df",
   "metadata": {},
   "outputs": [],
   "source": []
  }
 ],
 "metadata": {
  "kernelspec": {
   "display_name": "Python 3 (ipykernel)",
   "language": "python",
   "name": "python3"
  },
  "language_info": {
   "codemirror_mode": {
    "name": "ipython",
    "version": 3
   },
   "file_extension": ".py",
   "mimetype": "text/x-python",
   "name": "python",
   "nbconvert_exporter": "python",
   "pygments_lexer": "ipython3",
   "version": "3.9.12"
  }
 },
 "nbformat": 4,
 "nbformat_minor": 5
}
